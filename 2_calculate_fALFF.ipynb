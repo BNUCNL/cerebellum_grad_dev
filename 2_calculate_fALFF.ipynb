{
 "cells": [
  {
   "cell_type": "code",
   "execution_count": null,
   "metadata": {},
   "outputs": [],
   "source": [
    "import os\n",
    "import subprocess\n",
    "import numpy as np\n",
    "import pandas as pd\n",
    "import cb_tools\n",
    "from scipy import signal"
   ]
  },
  {
   "cell_type": "code",
   "execution_count": null,
   "metadata": {},
   "outputs": [],
   "source": [
    "# set path\n",
    "results_dir = '/nfs/s2/userhome/liuxingyu/workingdir/cerebellum_grad_dev'\n",
    "dataset = 'HCP-D'  # ['HCP-D', 'HCP-Adult']\n",
    "\n",
    "# set HCP data path\n",
    "if dataset == 'HCP-Adult':\n",
    "    data_dir = '/nfs/m1/hcp'\n",
    "    sublist = pd.read_csv(os.path.join(results_dir, 'sub_adult'), header=0, dtype={'Sub':np.str})\n",
    "    rf_runlist = ['rfMRI_REST1_LR', 'rfMRI_REST1_RL', 'rfMRI_REST2_LR', 'rfMRI_REST2_RL']\n",
    "    rf_run_name = 'Atlas_MSMAll_hp2000_clean.dtseries.nii'\n",
    "    tr = 0.72\n",
    "elif dataset == 'HCP-D':\n",
    "    data_dir = '/nfs/e1/HCPD/fmriresults01'\n",
    "    sublist = pd.read_csv(os.path.join(results_dir, 'sub_dev'), header=0)\n",
    "    sublist['Sub'] = sublist['Sub'] + '_V1_MR'\n",
    "    rf_runlist = ['rfMRI_REST1_AP', 'rfMRI_REST1_PA', 'rfMRI_REST2_AP', 'rfMRI_REST2_PA']\n",
    "    rf_run_name = 'Atlas_MSMAll_hp0_clean.dtseries.nii'"
   ]
  },
  {
   "cell_type": "code",
   "execution_count": null,
   "metadata": {},
   "outputs": [],
   "source": [
    "# get cerebellum mask\n",
    "atlas_dir = os.path.join(os.getcwd(), 'atlas')\n",
    "cb_mask_fslr_path = os.path.join(atlas_dir,  'Cerebellum-MNIfnirt-maxprob-thr25.dscalar.nii')\n",
    "cb_mask_mni_onlylobues = os.path.join(atlas_dir, 'Cerebellum-MNIfnirt-maxprob-thr25_onlylobues.nii.gz')\n",
    "\n",
    "cb_mask = cb_tools.CiftiReader(cb_mask_fslr_path).get_data()\n",
    "cb_mask[cb_mask!=0] = 1\n",
    "cb_mask = np.asarray(cb_mask,dtype=np.bool)"
   ]
  },
  {
   "cell_type": "code",
   "execution_count": null,
   "metadata": {},
   "outputs": [],
   "source": [
    "index = 'fALFF'\n",
    "atlas_cb_name = 'cb_anat_cifti'\n",
    "atlas_cb = cb_tools.atlas_load(atlas_cb_name, atlas_dir)\n",
    "\n",
    "save_dir = os.path.join(results_dir, index , dataset)\n",
    "if os.path.exists(save_dir) is False: os.makedirs(save_dir)\n",
    "\n",
    "save_path_roi = os.path.join(save_dir, f'{index}_{atlas_cb_name}.npy')\n",
    "save_path_voxel = os.path.join(save_dir, f'{index}_cb_voxel.dscalar.nii')\n",
    "save_path_sublist = os.path.join(save_dir, f'{index}_sub')"
   ]
  },
  {
   "cell_type": "code",
   "execution_count": null,
   "metadata": {},
   "outputs": [],
   "source": [
    "def fALFF(data, fs):\n",
    "    \"\"\"\n",
    "\n",
    "    Parameters\n",
    "    ----------\n",
    "        data: shape = [n_samples, n_features].\n",
    "    \"\"\"\n",
    "    # remove linear trend\n",
    "    data_detrend = signal.detrend(data, axis=-1)\n",
    "    # convert to frequency domain        \n",
    "    freqs, psd = signal.welch(data_detrend, fs=fs)\n",
    "    # calculate fALFF\n",
    "    falff = np.sum(psd[:, (freqs>0.01) * (freqs<0.08)], axis=-1) / np.sum(psd[:, freqs<0.5*fs], axis=-1)\n",
    "    \n",
    "    return falff"
   ]
  },
  {
   "cell_type": "code",
   "execution_count": null,
   "metadata": {},
   "outputs": [],
   "source": [
    "# compute fALFF\n",
    "value_voxel = []\n",
    "value_roi = []\n",
    "sub_valid = []\n",
    "\n",
    "for sub in sublist['Sub']:\n",
    "    \n",
    "    rf = [os.path.join(data_dir, sub, f'MNINonLinear/Results/{i}/{i}_{rf_run_name}') for i in rf_runlist]       \n",
    "    if np.asarray([os.path.exists(rf[i]) for i in range(len(rf))]).sum() != len(rf):\n",
    "        pass\n",
    "    else:\n",
    "        value_voxel_run = []\n",
    "        value_roi_run = []\n",
    "        for rf_path in rf:   \n",
    "            subprocess.call(f'wb_command -cifti-create-dense-from-template {cb_mask_fslr_path} {results_dir}/cbonly_temp.dtseries.nii -cifti {rf_path}', shell=True)          \n",
    "            rf_data = cb_tools.CiftiReader(f'{results_dir}/cbonly_temp.dtseries.nii').get_data()\n",
    "\n",
    "            falff = fALFF(rf_data.T, fs=1/tr)\n",
    "            \n",
    "            # thr 1.5 IQR\n",
    "            falff = cb_tools.thr_IQR(falff, times=1.5)\n",
    "            \n",
    "            # first save voxelwise falff, then roi mean\n",
    "            value_voxel_run.append(falff)      \n",
    "            falff_roi = cb_tools.roiing_volume(atlas_cb.data, falff, method='nanmean', key=atlas_cb.label_info['key'])[1]\n",
    "            value_roi_run.append(falff_roi)\n",
    "            \n",
    "        value_voxel.append(np.nanmean(np.asarray(value_voxel_run), 0))\n",
    "        value_roi.append(np.nanmean(np.asarray(value_roi_run), 0))\n",
    "        sub_valid.append(sub)\n",
    " \n",
    "    print('sub ' + sub + ' done')"
   ]
  },
  {
   "cell_type": "code",
   "execution_count": null,
   "metadata": {},
   "outputs": [],
   "source": [
    "# save mean results\n",
    "if dataset == 'HCP-Adult':\n",
    "    value_voxel = np.asarray(value_voxel)\n",
    "    value_mean = np.nanmean(value_voxel, 0)\n",
    "    value_mean[np.isnan(value_voxel).sum(0)>0.3*len(value_voxel)] = np.nan  # drop voxel with size less than 70% sub\n",
    "    value_mean = np.nan_to_num(value_mean)\n",
    "        \n",
    "    brain_models = cb_tools.CiftiReader(cb_mask_fslr_path).brain_models()\n",
    "    save_path_voxel_mean = save_path_voxel.replace('.dscalar.nii', '_mean.dscalar.nii')\n",
    "    cb_tools.save2cifti(save_path_voxel_mean, value_mean[None,...], brain_models, volume=cb_tools.CiftiReader(cb_mask_fslr_path).volume)\n",
    "\n",
    "    subprocess.check_output('wb_command -cifti-separate {0} COLUMN -volume-all {1}'.format(save_path_voxel_mean, save_path_voxel_mean.replace('.dscalar.nii', '_cbonly.nii.gz')), shell=True)    \n",
    "    subprocess.check_output('fslmaths {0}_cbonly.nii.gz -mas {1} {0}_cbonly_onlylobues.nii.gz'.format(save_path_voxel_mean.split('.')[0], cb_mask_mni_onlylobues), shell=True)"
   ]
  },
  {
   "cell_type": "code",
   "execution_count": null,
   "metadata": {},
   "outputs": [],
   "source": [
    "# save sub-wise results\n",
    "value_roi = np.nan_to_num(np.asarray(value_roi))\n",
    "value_voxel = np.nan_to_num(np.asarray(value_voxel))\n",
    "\n",
    "# save \n",
    "np.save(save_path_roi, value_roi) \n",
    "pd.DataFrame(sub_valid).to_csv(save_path_sublist, index=False, header=False)\n",
    "\n",
    "brain_models = cb_tools.CiftiReader(cb_mask_fslr_path).brain_models()\n",
    "cb_tools.save2cifti(save_path_voxel, value_voxel, brain_models, volume=cb_tools.CiftiReader(cb_mask_fslr_path).volume)\n",
    "subprocess.check_output('wb_command -cifti-separate {0} COLUMN -volume-all {1}'.format(save_path_voxel, save_path_voxel.replace('.dscalar.nii', '_cbonly.nii.gz')), shell=True)"
   ]
  }
 ],
 "metadata": {
  "kernelspec": {
   "display_name": "Python 3",
   "language": "python",
   "name": "python3"
  },
  "language_info": {
   "codemirror_mode": {
    "name": "ipython",
    "version": 3
   },
   "file_extension": ".py",
   "mimetype": "text/x-python",
   "name": "python",
   "nbconvert_exporter": "python",
   "pygments_lexer": "ipython3",
   "version": "3.8.5"
  }
 },
 "nbformat": 4,
 "nbformat_minor": 4
}
