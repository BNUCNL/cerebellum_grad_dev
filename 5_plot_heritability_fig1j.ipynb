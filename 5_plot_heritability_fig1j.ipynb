{
 "cells": [
  {
   "cell_type": "code",
   "execution_count": 1,
   "metadata": {},
   "outputs": [],
   "source": [
    "import nibabel as nib\n",
    "import os\n",
    "import numpy as np\n",
    "import pandas as pd\n",
    "import matplotlib.pyplot as plt\n",
    "import seaborn as sns\n",
    "import copy\n",
    "import cb_tools"
   ]
  },
  {
   "cell_type": "code",
   "execution_count": 2,
   "metadata": {},
   "outputs": [],
   "source": [
    "# set results path\n",
    "results_dir = '/nfs/s2/userhome/liuxingyu/workingdir/cerebellum_grad_dev'"
   ]
  },
  {
   "cell_type": "code",
   "execution_count": 3,
   "metadata": {},
   "outputs": [],
   "source": [
    "# prepare roi data\n",
    "data_t1wT2wRatio = pd.read_csv(os.path.join(results_dir, 't1wT2wRatio', 't1wT2wRatio_cb_anat_fsl.csv'))\n",
    "data_falff = pd.read_csv(os.path.join(results_dir, 'fALFF', 'fALFF_cb_anat_cifti.csv'))\n",
    "dem_herit = pd.read_csv(os.path.join(results_dir,'sub_heritabitily.csv'), dtype=np.str)\n",
    "\n",
    "atlas_dir = os.path.join(os.getcwd(), 'atlas')\n",
    "atlas = cb_tools.atlas_load('cb_anat_fsl', atlas_dir)\n",
    "\n",
    "num_str_col = 6\n",
    "palette_cb = sns.diverging_palette(230,230, l=80, center='dark', n=9)"
   ]
  },
  {
   "cell_type": "code",
   "execution_count": 4,
   "metadata": {},
   "outputs": [
    {
     "name": "stderr",
     "output_type": "stream",
     "text": [
      "/usr/local/neurosoft/anaconda3/lib/python3.8/site-packages/pandas/core/frame.py:4296: SettingWithCopyWarning: \n",
      "A value is trying to be set on a copy of a slice from a DataFrame\n",
      "\n",
      "See the caveats in the documentation: https://pandas.pydata.org/pandas-docs/stable/user_guide/indexing.html#returning-a-view-versus-a-copy\n",
      "  return super().rename(\n"
     ]
    }
   ],
   "source": [
    "def hemi_merging(x, num_str_col):\n",
    "    x_l = x[[x.columns[i] for i in range(x.shape[-1]) if x.columns[i].split('_')[-1]=='l']]\n",
    "    x_l.rename(columns=lambda x: x.split('_')[0], inplace=True)\n",
    "    \n",
    "    x_r = x[[x.columns[i] for i in range(x.shape[-1]) if x.columns[i].split('_')[-1]=='r']]   \n",
    "    x_r.rename(columns=lambda x: x.split('_')[0], inplace=True)\n",
    "\n",
    "    x_merged = pd.concat([pd.concat([x_l,x_r]).mean(level=0),x.iloc[:,-num_str_col:]], axis=1)\n",
    "    \n",
    "    return x_merged\n",
    "\n",
    "data_t1wT2wRatio = hemi_merging(data_t1wT2wRatio, num_str_col)\n",
    "data_falff = hemi_merging(data_falff, num_str_col)\n",
    "lobues_name = atlas.label_info['lobule'][:18:2]"
   ]
  },
  {
   "cell_type": "code",
   "execution_count": 5,
   "metadata": {},
   "outputs": [],
   "source": [
    "def twins_select(data_herit, dem_herit, num_str_col):\n",
    "    twins_in = np.c_[np.isin(dem_herit['twin1'].values, data_herit['Sub'].values),\n",
    "                     np.isin(dem_herit['twin2'].values, data_herit['Sub'].values)]\n",
    "    \n",
    "    dem_herit = dem_herit.loc[twins_in.sum(-1) == 2]\n",
    "    \n",
    "    data_herit = data_herit.set_index('Sub',drop=False)\n",
    "\n",
    "    col = data_herit.columns[:-num_str_col]\n",
    "    # MZ\n",
    "    mz1 = data_herit.loc[dem_herit.loc[dem_herit['zygosity']=='MZ','twin1'],col]\n",
    "    mz2 = data_herit.loc[dem_herit.loc[dem_herit['zygosity']=='MZ','twin2'],col]\n",
    "    mz = np.stack((mz1.values, mz2.values))\n",
    "    \n",
    "    # DZ\n",
    "    dz1 = data_herit.loc[dem_herit.loc[dem_herit['zygosity']=='DZ','twin1'],col]\n",
    "    dz2 = data_herit.loc[dem_herit.loc[dem_herit['zygosity']=='DZ','twin2'],col]\n",
    "    dz = np.stack((dz1.values, dz2.values))\n",
    "    \n",
    "    return mz, dz"
   ]
  },
  {
   "cell_type": "code",
   "execution_count": 9,
   "metadata": {},
   "outputs": [
    {
     "data": {
      "image/png": "[encoded data removed]",
      "text/plain": [
       "<Figure size 216x237.6 with 1 Axes>"
      ]
     },
     "metadata": {
      "needs_background": "dark"
     },
     "output_type": "display_data"
    }
   ],
   "source": [
    "#%% fig 1j\n",
    "# calculate h2 - lobule-wise\n",
    "mz_anat, dz_anat = twins_select(data_t1wT2wRatio, dem_herit, num_str_col)\n",
    "mz_func, dz_func = twins_select(data_falff, dem_herit, num_str_col)\n",
    "\n",
    "h2_anat, perct_anat = cb_tools.heritability(mz_anat, dz_anat, n_permutation=10000)\n",
    "h2_anat_df = pd.DataFrame(h2_anat[None,...], columns=atlas.label_info['lobule'][:18:2].values)\n",
    "h2_anat_df = h2_anat_df.stack().reset_index(-1, name='h2')\n",
    "\n",
    "# plot\n",
    "fig, ax = plt.subplots(nrows=1, ncols=1, figsize=(3, 3.3))\n",
    "\n",
    "sns.barplot(x='h2', y='level_1', ci=None, palette=palette_cb, data=h2_anat_df, ax=ax)\n",
    "ax.set_xlim([0,0.7])\n",
    "ax.set_ylabel(None)\n",
    "ax.tick_params(colors='gray', which='both')\n",
    "\n",
    "[ax.spines[k].set_color('darkgray') for k in ['top','bottom','left','right']]\n",
    "plt.tight_layout()\n"
   ]
  },
  {
   "cell_type": "code",
   "execution_count": null,
   "metadata": {},
   "outputs": [],
   "source": []
  }
 ],
 "metadata": {
  "kernelspec": {
   "display_name": "Python 3",
   "language": "python",
   "name": "python3"
  },
  "language_info": {
   "codemirror_mode": {
    "name": "ipython",
    "version": 3
   },
   "file_extension": ".py",
   "mimetype": "text/x-python",
   "name": "python",
   "nbconvert_exporter": "python",
   "pygments_lexer": "ipython3",
   "version": "3.8.5"
  }
 },
 "nbformat": 4,
 "nbformat_minor": 4
}
