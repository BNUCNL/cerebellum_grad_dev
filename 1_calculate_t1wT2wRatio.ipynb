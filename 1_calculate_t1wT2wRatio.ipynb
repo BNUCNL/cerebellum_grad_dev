{
 "cells": [
  {
   "cell_type": "code",
   "execution_count": 1,
   "metadata": {},
   "outputs": [],
   "source": [
    "import nibabel as nib\n",
    "import os\n",
    "import subprocess\n",
    "import numpy as np\n",
    "import pandas as pd\n",
    "import cb_tools "
   ]
  },
  {
   "cell_type": "code",
   "execution_count": 3,
   "metadata": {},
   "outputs": [],
   "source": [
    "# set path\n",
    "results_dir = '/nfs/s2/userhome/liuxingyu/workingdir/cerebellum_grad_dev'\n",
    "dataset = 'HCP-Adult'  # ['HCP-D', 'HCP-Adult']\n",
    "\n",
    "temp_data_dir = f'/nfs/s2/userhome/liuxingyu/workingdir/cerebellum_grad_dev/temp/{dataset}/t1w_t2w'\n",
    "if os.path.exists(temp_data_dir) is False: os.makedirs(temp_data_dir)"
   ]
  },
  {
   "cell_type": "code",
   "execution_count": null,
   "metadata": {},
   "outputs": [],
   "source": [
    "# set HCP data path\n",
    "if dataset == 'HCP-Adult':\n",
    "    data_dir = '/nfs/m1/hcp'\n",
    "    sublist = pd.read_csv(os.path.join(results_dir, 'sub_adult'), header=0, dtype={'Sub':np.str})\n",
    "elif dataset == 'HCP-D':\n",
    "    data_dir = '/nfs/e1/HCPD/fmriresults01'\n",
    "    sublist = pd.read_csv(os.path.join(results_dir, 'sub_dev'), header=0)\n",
    "    sublist['Sub'] = sublist['Sub'] + '_V1_MR'"
   ]
  },
  {
   "cell_type": "code",
   "execution_count": null,
   "metadata": {},
   "outputs": [],
   "source": [
    "# get cerebellum mask\n",
    "atlas_dir = os.path.join(os.getcwd(), 'atlas')\n",
    "cb_mask_mni_path = os.path.join(atlas_dir, 'Cerebellum-MNIfnirt-maxprob-thr25.nii')\n",
    "cb_mask_mni_onlylobues = os.path.join(atlas_dir, 'Cerebellum-MNIfnirt-maxprob-thr25_onlylobues.nii.gz')\n",
    "atlas_mni_2_path = os.path.join(atlas_dir, 'MNI152_T1_2mm_brain.nii.gz')\n",
    "\n",
    "cb_mask = nib.load(cb_mask_mni_path).get_fdata()\n",
    "cb_mask[cb_mask!=0] = 1\n",
    "cb_mask = np.asarray(cb_mask,dtype=np.bool)"
   ]
  },
  {
   "cell_type": "code",
   "execution_count": null,
   "metadata": {},
   "outputs": [],
   "source": [
    "index = 't1wT2wRatio'\n",
    "atlas_cb_name = 'cb_anat_fsl'\n",
    "atlas_cb = cb_tools.atlas_load(atlas_cb_name, atlas_dir)\n",
    "\n",
    "save_dir = os.path.join(results_dir, index , dataset)\n",
    "if os.path.exists(save_dir) is False: os.makedirs(save_dir)\n",
    "\n",
    "save_path_roi = os.path.join(save_dir, f'{index}_{index}.npy')\n",
    "save_path_voxel = os.path.join(save_dir, f'{index}_cb_voxel.nii.gz')\n",
    "save_path_sublist = os.path.join(save_dir, f'{index}_sub')"
   ]
  },
  {
   "cell_type": "code",
   "execution_count": null,
   "metadata": {},
   "outputs": [],
   "source": [
    "# resample to 2mm\n",
    "for sub in sublist['Sub']:\n",
    "    t1w_brain_path = os.path.join(data_dir, sub, 'MNINonLinear', 'T1w_restore_brain.nii.gz')\n",
    "    t2w_brain_path = os.path.join(data_dir, sub, 'MNINonLinear', 'T2w_restore_brain.nii.gz')\n",
    "\n",
    "    t1w_brain_2_path = os.path.join(temp_data_dir, f'T1w_restore_brain_2_{sub}.nii.gz')\n",
    "    t2w_brain_2_path = os.path.join(temp_data_dir, f'T2w_restore_brain_2_{sub}.nii.gz')   \n",
    "\n",
    "    if os.path.exists(t2w_brain_2_path) is False or os.path.exists(t1w_brain_2_path) is False:              \n",
    "        flirt_t1w = f'flirt -in {t1w_brain_path} -ref {atlas_mni_2_path} -applyisoxfm 2 -out {t1w_brain_2_path}'\n",
    "        flirt_t2w = f'flirt -in {t2w_brain_path} -ref {atlas_mni_2_path} -applyisoxfm 2 -out {t2w_brain_2_path}'           \n",
    "        subprocess.call(flirt_t1w, shell=True)  \n",
    "        subprocess.call(flirt_t2w, shell=True)\n",
    "        \n",
    "        print('sub ' + sub + 'resample done')"
   ]
  },
  {
   "cell_type": "code",
   "execution_count": null,
   "metadata": {},
   "outputs": [],
   "source": [
    "# compute t1w/t2w\n",
    "value_voxel = []\n",
    "value_roi = []\n",
    "sub_valid = []\n",
    "\n",
    "for sub in sublist['Sub']:  \n",
    "    t1w_brain_path = os.path.join(temp_data_dir, f'T1w_restore_brain_2_{sub}.nii.gz')\n",
    "    t2w_brain_path = os.path.join(temp_data_dir, f'T2w_restore_brain_2_{sub}.nii.gz')   \n",
    "              \n",
    "    t1w = nib.load(t1w_brain_path).get_fdata() \n",
    "    t2w = nib.load(t2w_brain_path).get_fdata()\n",
    "    \n",
    "    t1w = t1w * cb_mask\n",
    "    t2w = t2w * cb_mask\n",
    "    \n",
    "    # thr 1.5 IQR\n",
    "    t1w = cb_tools.thr_IQR(t1w, times=1.5)\n",
    "    t2w = cb_tools.thr_IQR(t2w, times=1.5)\n",
    "    ratio = t1w / t2w  \n",
    "    \n",
    "    # 2nd thr\n",
    "    ratio = cb_tools.thr_IQR(ratio, times=1.5)\n",
    "    \n",
    "    value_voxel.append(ratio)\n",
    "    value_roi.append(cb_tools.roiing_volume(atlas_cb.data, ratio, method='nanmean', key=atlas_cb.label_info['key'])[1])\n",
    "    \n",
    "    sub_valid.append(sub)        \n",
    "    print('sub ' + sub + ' done')"
   ]
  },
  {
   "cell_type": "code",
   "execution_count": null,
   "metadata": {},
   "outputs": [],
   "source": [
    "# save mean results\n",
    "if dataset == 'HCP-Adult':\n",
    "    value_voxel = np.asarray(value_voxel)\n",
    "    value_mean = np.nanmean(value_voxel, 0)\n",
    "    value_mean[np.isnan(value_voxel).sum(0) > 0.3*len(value_voxel)] = np.nan  # drop voxel with size less than 70% sub\n",
    "    value_mean = np.nan_to_num(value_mean)\n",
    "        \n",
    "    save_path_voxel_mean = save_path_voxel.replace('.nii.gz', '_mean.nii.gz')\n",
    "    img = nib.Nifti1Image(value_mean, None)\n",
    "    nib.save(img, save_path_voxel_mean)\n",
    "    subprocess.check_output(f'fslcpgeom {cb_mask_mni_path} {save_path_voxel_mean} -d', shell=True)\n",
    "    subprocess.check_output('fslmaths {0}.nii.gz -mas {1} {0}_onlylobues.nii.gz'.format(\n",
    "        save_path_voxel_mean.split('.')[0], cb_mask_mni_onlylobues), shell=True)"
   ]
  },
  {
   "cell_type": "code",
   "execution_count": null,
   "metadata": {},
   "outputs": [],
   "source": [
    "# save sub-wise results\n",
    "value_roi = np.nan_to_num(np.asarray(value_roi))\n",
    "value_voxel = np.nan_to_num(np.asarray(value_voxel))\n",
    "\n",
    "# save \n",
    "np.save(save_path_roi, value_roi) \n",
    "pd.DataFrame(sub_valid).to_csv(save_path_sublist, index=False, header=False)\n",
    "\n",
    "img = nib.Nifti1Image(value_voxel.transpose(1,2,3,0), None)\n",
    "nib.save(img, save_path_voxel)\n",
    "subprocess.call(f'fslcpgeom {cb_mask_mni_path} {save_path_voxel} -d', shell=True)"
   ]
  }
 ],
 "metadata": {
  "kernelspec": {
   "display_name": "Python 3",
   "language": "python",
   "name": "python3"
  },
  "language_info": {
   "codemirror_mode": {
    "name": "ipython",
    "version": 3
   },
   "file_extension": ".py",
   "mimetype": "text/x-python",
   "name": "python",
   "nbconvert_exporter": "python",
   "pygments_lexer": "ipython3",
   "version": "3.8.5"
  }
 },
 "nbformat": 4,
 "nbformat_minor": 4
}
