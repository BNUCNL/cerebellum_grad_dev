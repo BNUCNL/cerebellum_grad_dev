{
 "cells": [
  {
   "cell_type": "code",
   "execution_count": 1,
   "metadata": {},
   "outputs": [],
   "source": [
    "import nibabel as nib\n",
    "import os\n",
    "import numpy as np\n",
    "import pandas as pd\n",
    "import cb_tools"
   ]
  },
  {
   "cell_type": "code",
   "execution_count": null,
   "metadata": {},
   "outputs": [],
   "source": [
    "results_dir = '/nfs/s2/userhome/liuxingyu/workingdir/cerebellum_grad_dev'\n",
    "index = 't1wT2wRatio' # ['t1wT2wRatio', 'fALFF']\n",
    "\n",
    "dataset = ['HCP-D', 'HCP-Adult']"
   ]
  },
  {
   "cell_type": "code",
   "execution_count": null,
   "metadata": {},
   "outputs": [],
   "source": [
    "# get cerebellum mask\n",
    "atlas_dir = os.path.join(os.getcwd(), 'atlas')\n",
    "atlas_mni_path = os.path.join(atlas_dir, 'MNI152_T1_2mm_brain.nii.gz')\n",
    "cb_mask_mni_path = os.path.join(atlas_dir,'Cerebellum-MNIfnirt-maxprob-thr25.nii')\n",
    "\n",
    "cb_mask = nib.load(cb_mask_mni_path).get_fdata()\n",
    "cb_mask[cb_mask!=0] = 1\n",
    "cb_mask = np.asarray(cb_mask,dtype=np.bool)"
   ]
  },
  {
   "cell_type": "code",
   "execution_count": null,
   "metadata": {},
   "outputs": [],
   "source": [
    "# merge datasets\n",
    "num_str_col = 6\n",
    "data_voxel_ds = []\n",
    "data_roi_ds = []\n",
    "for ds in dataset:\n",
    "        \n",
    "    dataset_dir = os.path.join(results_dir, index, ds)\n",
    "    result_sub_path = os.path.join(dataset_dir, '{0}_sub'.format(index))\n",
    "    \n",
    "    if index == 't1wT2wRatio' :\n",
    "        atlas_cb_name = 'cb_anat_fsl'\n",
    "        data_voxel = nib.load(os.path.join(dataset_dir, '{0}_cb_voxel.nii.gz'.format(index))).get_data()[cb_mask].T\n",
    "        \n",
    "    elif index == 'fALFF' :\n",
    "        atlas_cb_name = 'cb_anat_cifti' \n",
    "        data_voxel = cb_tools.CiftiReader(os.path.join(dataset_dir, '{0}_cb_voxel.dscalar.nii'.format(index))).get_data()\n",
    "        \n",
    "    data_roi = np.load(os.path.join(dataset_dir, '{0}_{1}.npy'.format(index, atlas_cb_name)))\n",
    "    atlas = cb_tools.atlas_load(atlas_cb_name, atlas_dir)\n",
    "    \n",
    "    # sub_info  \n",
    "    result_sub = pd.read_table(result_sub_path, header=None, sep='_', names=['Sub'], usecols=[0], dtype={'Sub':np.str})\n",
    "    sub_info_path = os.path.join(results_dir, 'HCP{0}_preproc_subinfo'.format(ds.split('-')[-1]))\n",
    "    sub_info = pd.read_table(sub_info_path, sep='\\t', dtype={'Sub':np.str})\n",
    "    sub_info = result_sub.merge(sub_info, on='Sub', how='left')\n",
    "    \n",
    "    # roi data\n",
    "    # only lobules\n",
    "    data_roi = data_roi[:, :19]\n",
    "    atlas.label_info = atlas.label_info[:19]\n",
    "    # convert to df\n",
    "    data_roi_df = pd.DataFrame(data_roi, columns=atlas.label_info['name']).astype(np.float)\n",
    "    data_roi_df = pd.concat([data_roi_df, sub_info], axis=1)\n",
    "    # retain lobule 1-9 for roi data\n",
    "    col = [col for col in data_roi_df.columns[:-num_str_col] if col.split('_')[0] == 'X' ]\n",
    "    data_roi_df.drop(columns=col, inplace=True)\n",
    "    \n",
    "    data_roi_ds.append(data_roi_df)\n",
    "    \n",
    "    # voxel data\n",
    "    if ds == 'HCP-D':\n",
    "        data_voxel_df = pd.DataFrame(data_voxel)\n",
    "        data_voxel_df = pd.concat([data_voxel_df, sub_info], axis=1)\n",
    "        data_voxel_ds.append(data_voxel_df)"
   ]
  },
  {
   "cell_type": "code",
   "execution_count": null,
   "metadata": {},
   "outputs": [],
   "source": [
    "# save\n",
    "data_roi_all = pd.concat((data_roi_ds[i] for i in range(len(data_roi_ds))), axis=0)\n",
    "data_voxel_all = pd.concat((data_voxel_ds[i] for i in range(len(data_voxel_ds))), axis=0)\n",
    "\n",
    "data_roi_all.to_csv(os.path.join(results_dir, index, '{0}_{1}.csv'.format(index, atlas_cb_name)), index=0)\n",
    "data_voxel_all.to_csv(os.path.join(results_dir, index, '{0}_cb_voxel.csv'.format(index)), index=0)"
   ]
  }
 ],
 "metadata": {
  "kernelspec": {
   "display_name": "Python 3",
   "language": "python",
   "name": "python3"
  },
  "language_info": {
   "codemirror_mode": {
    "name": "ipython",
    "version": 3
   },
   "file_extension": ".py",
   "mimetype": "text/x-python",
   "name": "python",
   "nbconvert_exporter": "python",
   "pygments_lexer": "ipython3",
   "version": "3.8.5"
  }
 },
 "nbformat": 4,
 "nbformat_minor": 4
}
